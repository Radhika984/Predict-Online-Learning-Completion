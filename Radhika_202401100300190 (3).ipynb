{
  "nbformat": 4,
  "nbformat_minor": 0,
  "metadata": {
    "colab": {
      "provenance": []
    },
    "kernelspec": {
      "name": "python3",
      "display_name": "Python 3"
    },
    "language_info": {
      "name": "python"
    }
  },
  "cells": [
    {
      "cell_type": "code",
      "source": [
        "# Import necessary libraries\n",
        "import pandas as pd\n",
        "from sklearn.model_selection import train_test_split\n",
        "from sklearn.linear_model import LogisticRegression\n",
        "from sklearn.preprocessing import LabelEncoder\n",
        "from sklearn.metrics import accuracy_score, confusion_matrix, classification_report\n",
        "\n",
        "# Step 1: Load the dataset from the given file path\n",
        "file_path = '/content/online_learning.csv'  # Ensure this file exists in your environment\n",
        "df = pd.read_csv(file_path)  # Using default comma separator\n",
        "df.columns = df.columns.str.strip()  # Clean up column names\n",
        "\n",
        "# Step 2: Preview the data\n",
        "print(\"First 5 rows of the dataset:\")\n",
        "print(df.head())\n",
        "print(\"Columns:\", df.columns.tolist())  # Optional: check column names\n",
        "\n",
        "# Step 3: Convert 'completed' column from 'yes'/'no' to 1/0\n",
        "label_encoder = LabelEncoder()\n",
        "df['completed'] = label_encoder.fit_transform(df['completed'])  # yes -> 1, no -> 0\n",
        "\n",
        "# Step 4: Split the dataset into features (X) and target (y)\n",
        "X = df[['videos_watched', 'assignments_submitted', 'forum_posts']]  # Feature columns\n",
        "y = df['completed']  # Target column\n",
        "\n",
        "# Step 5: Split the dataset into training and testing sets (80% train, 20% test)\n",
        "X_train, X_test, y_train, y_test = train_test_split(X, y, test_size=0.2, random_state=42)\n",
        "\n",
        "# Step 6: Initialize and train a Logistic Regression model\n",
        "model = LogisticRegression()\n",
        "model.fit(X_train, y_train)\n",
        "\n",
        "# Step 7: Make predictions on the test data\n",
        "y_pred = model.predict(X_test)\n",
        "\n",
        "# Step 8: Evaluate the model performance\n",
        "print(\"\\nModel Evaluation:\")\n",
        "print(\"Accuracy:\", accuracy_score(y_test, y_pred))\n",
        "print(\"\\nConfusion Matrix:\\n\", confusion_matrix(y_test, y_pred))\n",
        "print(\"\\nClassification Report:\\n\", classification_report(y_test, y_pred))"
      ],
      "metadata": {
        "colab": {
          "base_uri": "https://localhost:8080/"
        },
        "id": "2SNfDT2d2fRC",
        "outputId": "65f5012b-3087-493a-dbe7-0bacb424cf25"
      },
      "execution_count": 4,
      "outputs": [
        {
          "output_type": "stream",
          "name": "stdout",
          "text": [
            "First 5 rows of the dataset:\n",
            "   videos_watched  assignments_submitted  forum_posts completed\n",
            "0              11                      6            5       yes\n",
            "1              43                      1           11        no\n",
            "2              37                      1            8        no\n",
            "3              18                      4           14       yes\n",
            "4               6                      4           15       yes\n",
            "Columns: ['videos_watched', 'assignments_submitted', 'forum_posts', 'completed']\n",
            "\n",
            "Model Evaluation:\n",
            "Accuracy: 0.4\n",
            "\n",
            "Confusion Matrix:\n",
            " [[4 3]\n",
            " [9 4]]\n",
            "\n",
            "Classification Report:\n",
            "               precision    recall  f1-score   support\n",
            "\n",
            "           0       0.31      0.57      0.40         7\n",
            "           1       0.57      0.31      0.40        13\n",
            "\n",
            "    accuracy                           0.40        20\n",
            "   macro avg       0.44      0.44      0.40        20\n",
            "weighted avg       0.48      0.40      0.40        20\n",
            "\n"
          ]
        }
      ]
    }
  ]
}